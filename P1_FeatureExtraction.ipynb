{
 "cells": [
  {
   "cell_type": "markdown",
   "id": "fb9b2c64",
   "metadata": {},
   "source": [
    "# Part 1 - Feature Extraction"
   ]
  },
  {
   "cell_type": "markdown",
   "id": "41f6c75d",
   "metadata": {},
   "source": [
    "article:\n",
    "\n",
    "[1]: Cinar, Ilkay, and Murat Koklu. \"Identification of rice varieties using machine learning algorithms.\" Journal of Agricultural Sciences (2022): 9-9.\n",
    "\n",
    "https://dergipark.org.tr/en/download/article-file/1513632"
   ]
  },
  {
   "cell_type": "markdown",
   "id": "3ce21d52",
   "metadata": {},
   "source": [
    "## Introduction"
   ]
  },
  {
   "cell_type": "markdown",
   "id": "35ca8979",
   "metadata": {},
   "source": [
    "- Rice is a popular ingrediant all around the word. Its nutritious and it can be harvest in many places. To have a high quality rice on the table, it needs to go trought some phases. Some unwanted things should be removed from it. So, we need classification for these phases. In this task, we are trying to come up with the best model and hyperparameters for classification.\n",
    "\n",
    "- Based on the article[1], the data was gathered by taking pictures of different species of rice in a labratory. The camera had the power of 2.2 megapixels and 2048 × 1088 resolution. However, the pictures are not directly used. Using some image processing techniques, the contour of each rice and the geometric features of the rices are extracted and saved in a chart for any analytic use.\n",
    "\n",
    "- For image processing phase, contours of the pictures where extracted by opencv. After that some features like roundness and skew were calculated using the rgb numbers of the pixels inside the contour."
   ]
  },
  {
   "cell_type": "markdown",
   "id": "6f605da2",
   "metadata": {},
   "source": [
    "## Preparations of the data"
   ]
  },
  {
   "cell_type": "markdown",
   "id": "bd900472",
   "metadata": {},
   "source": [
    "Make three folders in your working folder: \"notebooks\", \"data\" and \"training_data\". Save this notebook in \"notebooks\" folder.\n",
    "<br> <br>\n",
    "Perform preparations for the data\n",
    "- import all the packages needed for this notebook in one cell \n",
    "- import the images. Data can be found from (downloading starts as you press the link) https://www.muratkoklu.com/datasets/vtdhnd09.php <br>\n",
    "    - save the data folders \"Arborio\", \"Basmati\" and \"Jasmine\" in \"data\" folder \n",
    "- take a random sample of 100 images from Arborio, Basmati and Jasmine rice species (i.e. 300 images in total) \n",
    "- determine the contour of each rice (you can use e.g. *findContours* from OpenCV) \n",
    "- plot one example image of each rice species, including the contour "
   ]
  },
  {
   "cell_type": "code",
   "execution_count": 1,
   "id": "99b01b05",
   "metadata": {},
   "outputs": [],
   "source": [
    "import os\n",
    "import numpy as np\n",
    "import cv2\n",
    "import random\n",
    "import pandas as pd"
   ]
  },
  {
   "cell_type": "markdown",
   "id": "84bbc755",
   "metadata": {},
   "source": [
    "<font color = red>contours are a curve that connects all points in a row (along an object boundary) and has the same color or intensity."
   ]
  },
  {
   "cell_type": "code",
   "execution_count": 42,
   "id": "0482aad8",
   "metadata": {},
   "outputs": [],
   "source": [
    "Arborio_path = '../data/Arborio/' # creating path of Arborio data set\n",
    "Basmati_path = '../data/Basmati/' # creating path of Basmati data set\n",
    "Jasmine_path = '../data/Jasmine/' # creating path of Basmati data set\n",
    "\n",
    "Arborio_arr = os.listdir(Arborio_path) # getting name of all the images in the path\n",
    "Basmati_arr = os.listdir(Basmati_path)\n",
    "Jasmine_arr = os.listdir(Jasmine_path)\n",
    "\n",
    "Arborio_arr = random.sample(Arborio_arr,100) # making 100 random samples from each type\n",
    "Basmati_arr = random.sample(Basmati_arr,100)\n",
    "Jasmine_arr = random.sample(Jasmine_arr,100)\n",
    "\n",
    "y_train = [] # creating empty lists\n",
    "x_train = []\n",
    "\n",
    "for element in Arborio_arr: # iterating through all the image names\n",
    "  path = Arborio_path + element # creating every image specifialy\n",
    "  I1 = cv2.imread(path) # reading image, turning it into a 3D array of rbg pixels\n",
    "  I1 = np.array(I1) # converting to numpy\n",
    "  y_train.append(0) # putting label 1 for all the images in 'Arborio' folder\n",
    "  x_train.append(I1) # putting all the images from 'Arborio' folder in x_train array\n",
    "  \n",
    "for element in Basmati_arr:\n",
    "  path = Basmati_path + element\n",
    "  I1 = cv2.imread(path)\n",
    "  I1 = np.array(I1)\n",
    "  y_train.append(1) # putting label 0 for all the images in 'Basmati' folder\n",
    "  x_train.append(I1) # putting all the images from 'Basmati' folder in x_train array\n",
    "  \n",
    "for element in Jasmine_arr:\n",
    "  path = Jasmine_path + element\n",
    "  I1 = cv2.imread(path)\n",
    "  I1 = np.array(I1)\n",
    "  y_train.append(2) # putting label 0 for all the images in 'Jasmine' folder\n",
    "  x_train.append(I1) # putting all the images from 'Jasmine' folder in x_train array"
   ]
  },
  {
   "cell_type": "code",
   "execution_count": 43,
   "id": "8c0cbe6f",
   "metadata": {},
   "outputs": [],
   "source": [
    "contours_list = []\n",
    "\n",
    "for image in x_train:\n",
    "    imgray = cv2.cvtColor(image, cv2.COLOR_BGR2GRAY) # making a grayscale image\n",
    "    ret, thresh = cv2.threshold(imgray, 127, 255, 0) # making a binary image\n",
    "    # extracting all contours\n",
    "    contours, hierarchy = cv2.findContours(thresh, cv2.RETR_TREE, cv2.CHAIN_APPROX_SIMPLE)\n",
    "    contours_list.append(contours)"
   ]
  },
  {
   "cell_type": "code",
   "execution_count": 44,
   "id": "b3cf3707",
   "metadata": {},
   "outputs": [],
   "source": [
    "number_Arborio = random.randint(0,100) # getting 1 random sample out of 100\n",
    "number_Basmati = random.randint(100,200)\n",
    "number_Jasmine = random.randint(200,300)\n",
    "\n",
    "numbers = [number_Arborio, number_Basmati, number_Jasmine] # putting all numbers in a list\n",
    "\n",
    "for number in numbers:\n",
    "    im = cv2.drawContours(x_train[number], contours_list[number][0], -1, (0,255,0), 3) #drawing contour\n",
    "    cv2.imshow('Contours', im)\n",
    "    cv2.waitKey(0) # keeping the window opened until a key is entered\n",
    "cv2.destroyAllWindows() #destroying all windows"
   ]
  },
  {
   "cell_type": "markdown",
   "id": "b8386fd1",
   "metadata": {},
   "source": [
    "## Feature extraction"
   ]
  },
  {
   "cell_type": "markdown",
   "id": "83cc994d",
   "metadata": {},
   "source": [
    "Gathering the feature data <br>\n",
    "<br>\n",
    "Color features <br>\n",
    "In this section, I :\n",
    "- Calculate the following color features for each image, including only the pixels within the contour (*pointPolygonTest* from OpenCV)\n",
    "    - Mean for each RGB color channel \n",
    "    - Variance for each RGB color channel \n",
    "    - Skewness for each RGB color channel \n",
    "    - Kurtosis for each RGB color channel \n",
    "    - Entropy for each RGB color channel \n",
    "    \n",
    "Dimension features <br>\n",
    "In this section, I :\n",
    "- Fit an ellipse to the contour points (*fitEllipse* from OpenCV) \n",
    "- Plot one example image of each rice species including the fitted ellipse \n",
    "- Calculate the following features for each image (for details, see the original article)\n",
    "    - the major axis length the ellipse \n",
    "    - the minor axis length of the ellipse \n",
    "    - area inside the contour (*contourArea* from OpenCV) \n",
    "    - perimeter of the contour (*arcLength* from OpenCV) \n",
    "    - roundness \n",
    "    - aspect ratio \n",
    "    \n",
    "Then I Gather all the features in one array or dataframe: one data point in one row, including all feature values in columns.  <br>\n",
    "For each data point, also information of the original image and the label (rice species) are included. The data is saved in \"training_data\" folder. "
   ]
  },
  {
   "cell_type": "code",
   "execution_count": 45,
   "id": "69cafcfd",
   "metadata": {},
   "outputs": [],
   "source": [
    "dfcolumns = ['name', 'Class', 'RMean', 'GMean', 'BMean', 'RVariance', 'GVariance', 'BVariance', 'RSkew',\n",
    "             'GSkew', 'BSkew', 'RKurtosis','GKurtosis','BKurtosis', 'REntropy', 'GEntropy', 'BEntropy',\n",
    "             'MajL', 'MinL', 'Area', 'Perimeter', 'Roundness', 'AspectRatio']\n",
    "df = pd.DataFrame(columns=dfcolumns)"
   ]
  },
  {
   "cell_type": "code",
   "execution_count": 46,
   "id": "6a9e6b43",
   "metadata": {},
   "outputs": [],
   "source": [
    "from scipy.stats import skew, entropy, kurtosis\n",
    "from statistics import mean\n",
    "\n",
    "for i, image in enumerate(x_train): # we need to do the calculation for each image\n",
    "    data = []\n",
    "    if i < 100: # checking if its type 1\n",
    "        data.append(Arborio_arr[i]) # finding its name\n",
    "        data.append('Arborio') # attaching its type\n",
    "        \n",
    "    elif i < 200: # checking if its type 2\n",
    "        data.append(Basmati_arr[i - 100])\n",
    "        data.append('Basmati')\n",
    "        \n",
    "    elif i < 300: # checking if its type 3\n",
    "        data.append(Jasmine_arr[i - 200])\n",
    "        data.append('Jasmine')\n",
    "        \n",
    "    pixel_list_R = [] # dividing all the rgb channels\n",
    "    pixel_list_G = []\n",
    "    pixel_list_B = []\n",
    "    \n",
    "    for j,row in enumerate(image): # creating two nested loops to get each pixel\n",
    "        for k, pixel in enumerate(row):\n",
    "            # checking if the pixel is on the border or inside the contour\n",
    "            if cv2.pointPolygonTest(contour=contours_list[i][0], pt=(j,k),\n",
    "                                    measureDist=False) > -1:\n",
    "                # using each pixels rbg seperately\n",
    "                pixel_list_R.append(pixel[0])\n",
    "                pixel_list_G.append(pixel[1])\n",
    "                pixel_list_B.append(pixel[2])\n",
    "                \n",
    "    data.append(mean(pixel_list_R))\n",
    "    data.append(mean(pixel_list_G))\n",
    "    data.append(mean(pixel_list_B))\n",
    "    data.append(np.var(pixel_list_R))\n",
    "    data.append(np.var(pixel_list_G))\n",
    "    data.append(np.var(pixel_list_B))\n",
    "    data.append(skew(pixel_list_R))\n",
    "    data.append(skew(pixel_list_G))\n",
    "    data.append(skew(pixel_list_B))\n",
    "    data.append(kurtosis(pixel_list_R))\n",
    "    data.append(kurtosis(pixel_list_G))\n",
    "    data.append(kurtosis(pixel_list_B))\n",
    "    data.append(entropy(pixel_list_R))\n",
    "    data.append(entropy(pixel_list_G))\n",
    "    data.append(entropy(pixel_list_B))\n",
    "    \n",
    "    # fitellipse fits an ellipse to out contour and returns x and y of its center, major and minor length\n",
    "    # and the angle\n",
    "    (xc,yc),(d1,d2),angle = cv2.fitEllipse(contours_list[i][0])\n",
    "    data.append(max(d1, d2)) # major\n",
    "    data.append(min(d1, d2)) #minor\n",
    "    area = cv2.contourArea(contours_list[i][0]) # calculates the area of a contour\n",
    "    data.append(area)\n",
    "    perimeter = cv2.arcLength(contours_list[i][0],True) # calculates the perimeter of a contour\n",
    "    data.append(perimeter)\n",
    "    \n",
    "    data.append(perimeter**2/area) # roundness is equal to the division of primeter square and area\n",
    "    x,y,w,h = cv2.boundingRect(contours_list[i][0])\n",
    "    # acspect ratio is the relationship btw width and height of an image\n",
    "    # to do so, we need to fit the contour in a rect and then calculate the division of the width \n",
    "    # and height\n",
    "    data.append(float(w)/h)\n",
    "    \n",
    "    df = pd.concat([df, pd.DataFrame([data], columns=dfcolumns)])"
   ]
  },
  {
   "cell_type": "markdown",
   "id": "6cb486e8",
   "metadata": {},
   "source": [
    "<font color = red> MEAN = the average value of a data set\n",
    "\n",
    "VARIANCE = mean squared difference between each value of a data set and the mean of the data set.\n",
    "\n",
    "ACSPECT RATIO =  is the relationship btw width and height of an image\n",
    "\n",
    "ROUNDNESS = is equal to the division of primeter square and area"
   ]
  },
  {
   "cell_type": "code",
   "execution_count": 50,
   "id": "07891c7d",
   "metadata": {},
   "outputs": [],
   "source": [
    "df.to_csv('../training_data/df.csv') # saving the data frame to the csv file"
   ]
  },
  {
   "cell_type": "code",
   "execution_count": 51,
   "id": "4bad3c93",
   "metadata": {},
   "outputs": [],
   "source": [
    "number_Arborio = random.randint(0,100) # getting 1 random sample out of 100\n",
    "number_Basmati = random.randint(100,200)\n",
    "number_Jasmine = random.randint(200,300)\n",
    "\n",
    "numbers = [number_Arborio, number_Basmati, number_Jasmine] # putting all numbers in a list\n",
    "\n",
    "for number in numbers:\n",
    "    cnt = contours_list[number][0] # taking the contour we want, out\n",
    "    ellipse = cv2.fitEllipse(cnt) # fitting an ellipse on it\n",
    "    cv2.ellipse(x_train[number],ellipse, (0,0,255), 3) # drawing the ellipse\n",
    "    cv2.imshow(\"Ellipse\", x_train[number]) # showing the plot\n",
    "    cv2.waitKey(0)\n",
    "cv2.destroyAllWindows()\n"
   ]
  }
 ],
 "metadata": {
  "interpreter": {
   "hash": "896ca16f81e75fad27ddb3763c7bbbef4434df0538473c6ce1b19bddc2f51f11"
  },
  "kernelspec": {
   "display_name": "Python [conda env:env1]",
   "language": "python",
   "name": "python3"
  },
  "language_info": {
   "codemirror_mode": {
    "name": "ipython",
    "version": 3
   },
   "file_extension": ".py",
   "mimetype": "text/x-python",
   "name": "python",
   "nbconvert_exporter": "python",
   "pygments_lexer": "ipython3",
   "version": "3.8.15"
  },
  "toc": {
   "base_numbering": 1,
   "nav_menu": {},
   "number_sections": true,
   "sideBar": true,
   "skip_h1_title": false,
   "title_cell": "Table of Contents",
   "title_sidebar": "Contents",
   "toc_cell": false,
   "toc_position": {
    "height": "calc(100% - 180px)",
    "left": "10px",
    "top": "150px",
    "width": "232px"
   },
   "toc_section_display": true,
   "toc_window_display": true
  }
 },
 "nbformat": 4,
 "nbformat_minor": 5
}
